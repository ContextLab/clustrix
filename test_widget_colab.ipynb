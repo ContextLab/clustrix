{
 "cells": [
  {
   "cell_type": "markdown",
   "metadata": {},
   "source": [
    "# Enhanced Authentication Widget - Google Colab Test\n",
    "\n",
    "This notebook tests the enhanced authentication widget in Google Colab environment.\n",
    "\n",
    "**Important**: This test requires uploading the clustrix package to Colab or installing from source."
   ]
  },
  {
   "cell_type": "code",
   "execution_count": null,
   "metadata": {},
   "outputs": [],
   "source": [
    "# Install clustrix from GitHub (development version)\n",
    "!pip install git+https://github.com/ContextLab/clustrix.git@master -q\n",
    "print(\"✅ Clustrix installed successfully\")"
   ]
  },
  {
   "cell_type": "code",
   "execution_count": null,
   "metadata": {},
   "outputs": [],
   "source": [
    "# Test widget creation in Colab environment\n",
    "from clustrix.enhanced_notebook_widget import display_enhanced_widget\n",
    "from clustrix.config import ClusterConfig\n",
    "\n",
    "print(\"🧪 Testing enhanced widget in Google Colab...\")\n",
    "\n",
    "# Create widget with basic configuration\n",
    "config = ClusterConfig(\n",
    "    cluster_type='ssh',\n",
    "    cluster_host='your-cluster.edu',\n",
    "    username='your-username'\n",
    ")\n",
    "\n",
    "widget = display_enhanced_widget()\n",
    "print(\"\\n✅ Widget should be displayed above\")\n",
    "print(\"📝 Manual Test: Verify widget renders correctly in Colab\")\n",
    "print(\"📝 Manual Test: Check that checkboxes show/hide fields dynamically\")"
   ]
  },
  {
   "cell_type": "code",
   "execution_count": null,
   "metadata": {},
   "outputs": [],
   "source": [
    "# Test authentication methods availability in Colab\n",
    "from clustrix.validation import validate_1password_integration\n",
    "\n",
    "print(\"🧪 Testing authentication methods in Colab...\")\n",
    "\n",
    "# Test 1Password (should fail in Colab)\n",
    "print(\"Testing 1Password integration...\")\n",
    "result = validate_1password_integration()\n",
    "print(f\"1Password available: {result}\")\n",
    "\n",
    "if not result:\n",
    "    print(\"ℹ️  Expected: 1Password CLI not available in Colab environment\")\n",
    "else:\n",
    "    print(\"⚠️  Unexpected: 1Password CLI found in Colab\")\n",
    "\n",
    "print(\"\\n✅ Authentication testing completed\")\n",
    "print(\"📝 Manual Test: Verify appropriate error messages for unavailable methods\")"
   ]
  },
  {
   "cell_type": "markdown",
   "metadata": {},
   "source": [
    "## Colab Testing Checklist\n",
    "\n",
    "### Environment Tests\n",
    "- [ ] **Installation**: Clustrix installs successfully from GitHub\n",
    "- [ ] **Widget Rendering**: Widget displays correctly in Colab interface\n",
    "- [ ] **Interactive Elements**: Checkboxes and buttons work in Colab\n",
    "\n",
    "### Feature Tests\n",
    "- [ ] **1Password Detection**: Correctly detects 1Password CLI unavailable\n",
    "- [ ] **Error Handling**: Shows appropriate fallback messages\n",
    "- [ ] **Widget State**: Checkboxes properly control field visibility\n",
    "\n",
    "### Expected Behavior in Colab\n",
    "- **1Password**: Should show \"not available\" status (expected)\n",
    "- **SSH Keys**: Limited functionality (no local SSH directory)\n",
    "- **Environment Variables**: Should work for password specification\n",
    "- **Interactive Authentication**: Should fall back to manual password entry\n",
    "\n",
    "This validates that the widget gracefully handles limited Colab environment capabilities."
   ]
  }
 ],
 "metadata": {
  "kernelspec": {
   "display_name": "Python 3",
   "language": "python",
   "name": "python3"
  },
  "language_info": {
   "codemirror_mode": {
    "name": "ipython",
    "version": 3
   },
   "file_extension": ".py",
   "mimetype": "text/x-python",
   "name": "python",
   "nbconvert_exporter": "python",
   "pygments_lexer": "ipython3",
   "version": "3.12.0"
  }
 },
 "nbformat": 4,
 "nbformat_minor": 4
}