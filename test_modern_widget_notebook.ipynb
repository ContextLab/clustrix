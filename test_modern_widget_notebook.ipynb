{
 "cells": [
  {
   "cell_type": "markdown",
   "metadata": {},
   "source": [
    "# Modern Widget Interactive Test\n",
    "\n",
    "This notebook tests the modern widget functionality interactively to validate Issue #67 implementation."
   ]
  },
  {
   "cell_type": "markdown",
   "metadata": {},
   "source": [
    "## 1. Import and Setup"
   ]
  },
  {
   "cell_type": "code",
   "execution_count": null,
   "metadata": {},
   "outputs": [],
   "source": [
    "# Import the modern widget\n",
    "from clustrix.modern_notebook_widget import ModernClustrixWidget\n",
    "from clustrix.profile_manager import ProfileManager\n",
    "\n",
    "print(\"✅ Modern widget imported successfully\")"
   ]
  },
  {
   "cell_type": "markdown",
   "metadata": {},
   "source": [
    "## 2. Create Widget Instance"
   ]
  },
  {
   "cell_type": "code",
   "execution_count": null,
   "metadata": {},
   "outputs": [],
   "source": [
    "# Create profile manager and widget\n",
    "profile_manager = ProfileManager()\n",
    "widget = ModernClustrixWidget(profile_manager=profile_manager)\n",
    "\n",
    "print(f\"✅ Widget created with {len(widget.widgets)} components\")\n",
    "print(f\"✅ Current cluster type: {widget.widgets['cluster_type'].value}\")\n",
    "print(f\"✅ Current profile: {widget.widgets['profile_dropdown'].value}\")"
   ]
  },
  {
   "cell_type": "markdown",
   "metadata": {},
   "source": [
    "## 3. Display the Modern Widget\n",
    "\n",
    "This will show the complete modern widget interface matching the mockups:"
   ]
  },
  {
   "cell_type": "code",
   "metadata": {},
   "outputs": [],
   "source": "# Display the widget\nwidget.display()\n\n# Alternative: You can also use the convenience function\n# from clustrix.modern_notebook_widget import create_modern_cluster_widget\n# widget_container = create_modern_cluster_widget()\n# display(widget_container)"
  },
  {
   "cell_type": "markdown",
   "metadata": {},
   "source": [
    "## 4. Test Functionality\n",
    "\n",
    "Use the widget above to test:\n",
    "\n",
    "### Profile Management\n",
    "- Click the **+** button to add a new profile\n",
    "- Try switching between profiles in the dropdown\n",
    "- Click the **-** button to remove a profile (when multiple exist)\n",
    "\n",
    "### Cluster Configuration\n",
    "- Change the cluster type dropdown to \"slurm\" to see remote sections appear\n",
    "- Adjust CPU, RAM, and time settings\n",
    "- Change back to \"local\" to see remote sections hide\n",
    "\n",
    "### Advanced Settings\n",
    "- Click **Advanced settings** to expand the advanced section\n",
    "- Try adding environment variables and modules\n",
    "- Edit the pre-execution commands text area\n",
    "\n",
    "### File Operations\n",
    "- Try the **Apply** button to apply current configuration\n",
    "- Test **Save** to save configurations to file\n",
    "- Test **Load** to load configurations from file"
   ]
  },
  {
   "cell_type": "markdown",
   "metadata": {},
   "source": [
    "## 5. Validation Tests"
   ]
  },
  {
   "cell_type": "code",
   "execution_count": null,
   "metadata": {},
   "outputs": [],
   "source": [
    "# Test configuration extraction\n",
    "config = widget._get_config_from_widgets()\n",
    "\n",
    "print(\"📋 Current Configuration:\")\n",
    "print(f\"   Cluster Type: {config.cluster_type}\")\n",
    "print(f\"   CPUs: {config.default_cores}\")\n",
    "print(f\"   Memory: {config.default_memory}\")\n",
    "print(f\"   Time: {config.default_time}\")\n",
    "print(f\"   Package Manager: {config.package_manager}\")\n",
    "print(f\"   Python: {config.python_executable}\")"
   ]
  },
  {
   "cell_type": "code",
   "execution_count": null,
   "metadata": {},
   "outputs": [],
   "source": [
    "# Test profile management programmatically\n",
    "print(\"🔧 Testing Profile Management:\")\n",
    "initial_count = len(widget.widgets['profile_dropdown'].options)\n",
    "print(f\"   Initial profiles: {initial_count}\")\n",
    "\n",
    "# Add a profile programmatically\n",
    "widget._on_add_profile(widget.widgets['add_profile_btn'])\n",
    "new_count = len(widget.widgets['profile_dropdown'].options)\n",
    "print(f\"   After adding: {new_count}\")\n",
    "\n",
    "if new_count > initial_count:\n",
    "    print(\"✅ Profile addition working\")\n",
    "else:\n",
    "    print(\"❌ Profile addition failed\")"
   ]
  },
  {
   "cell_type": "code",
   "execution_count": null,
   "metadata": {},
   "outputs": [],
   "source": [
    "# Test advanced settings toggle\n",
    "print(\"🔧 Testing Advanced Settings:\")\n",
    "initial_visible = widget.advanced_settings_visible\n",
    "print(f\"   Initially visible: {initial_visible}\")\n",
    "\n",
    "widget._on_toggle_advanced(widget.widgets['advanced_toggle'])\n",
    "new_visible = widget.advanced_settings_visible\n",
    "print(f\"   After toggle: {new_visible}\")\n",
    "\n",
    "if initial_visible != new_visible:\n",
    "    print(\"✅ Advanced settings toggle working\")\n",
    "else:\n",
    "    print(\"❌ Advanced settings toggle failed\")"
   ]
  },
  {
   "cell_type": "markdown",
   "metadata": {},
   "source": [
    "## 6. Summary\n",
    "\n",
    "If all tests above pass and the widget displays correctly with interactive functionality, then **Issue #67 is successfully implemented**!\n",
    "\n",
    "The modern widget should show:\n",
    "- ✅ Horizontal layout matching mockups\n",
    "- ✅ Profile management with add/remove buttons\n",
    "- ✅ Configuration fields for cluster settings\n",
    "- ✅ Advanced settings section that expands/collapses\n",
    "- ✅ Remote sections that appear for remote cluster types\n",
    "- ✅ Proper styling with dark navy buttons and consistent layout"
   ]
  }
 ],
 "metadata": {
  "kernelspec": {
   "display_name": "Python 3",
   "language": "python",
   "name": "python3"
  },
  "language_info": {
   "codemirror_mode": {
    "name": "ipython",
    "version": 3
   },
   "file_extension": ".py",
   "mimetype": "text/x-python",
   "name": "python",
   "nbconvert_exporter": "python",
   "pygments_lexer": "ipython3",
   "version": "3.12.4"
  }
 },
 "nbformat": 4,
 "nbformat_minor": 4
}