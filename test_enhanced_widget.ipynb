{
 "cells": [
  {
   "cell_type": "markdown",
   "metadata": {},
   "source": [
    "# Enhanced Authentication Widget Testing\n",
    "\n",
    "This notebook tests the enhanced authentication widget functionality for issue #66.\n",
    "\n",
    "## Test Objectives\n",
    "1. ✅ Widget creation and display\n",
    "2. ✅ Dynamic field visibility (checkboxes)\n",
    "3. ✅ 1Password integration\n",
    "4. ✅ SSH key setup functionality\n",
    "5. ✅ Real cluster validation"
   ]
  },
  {
   "cell_type": "code",
   "execution_count": null,
   "metadata": {},
   "outputs": [],
   "source": [
    "# Import required modules\n",
    "import sys\n",
    "import os\n",
    "\n",
    "# Add clustrix to path if needed\n",
    "if '/Users/jmanning/clustrix' not in sys.path:\n",
    "    sys.path.insert(0, '/Users/jmanning/clustrix')\n",
    "\n",
    "from clustrix.enhanced_notebook_widget import display_enhanced_widget\n",
    "from clustrix.config import ClusterConfig\n",
    "\n",
    "print(\"✅ Clustrix enhanced widget modules imported successfully\")"
   ]
  },
  {
   "cell_type": "markdown",
   "metadata": {},
   "source": [
    "## Test 1: Basic Widget Display\n",
    "Create and display the enhanced widget with default configuration."
   ]
  },
  {
   "cell_type": "code",
   "execution_count": null,
   "metadata": {},
   "outputs": [],
   "source": [
    "# Test basic widget display\n",
    "print(\"🧪 Testing basic widget display...\")\n",
    "widget = display_enhanced_widget()\n",
    "print(\"✅ Widget displayed successfully\")"
   ]
  },
  {
   "cell_type": "markdown",
   "metadata": {},
   "source": [
    "## Test 2: Widget with Pre-configured Authentication\n",
    "Create widget with 1Password and environment variable options enabled."
   ]
  },
  {
   "cell_type": "code",
   "execution_count": null,
   "metadata": {},
   "outputs": [],
   "source": [
    "# Test widget with pre-configured authentication\n",
    "print(\"🧪 Testing widget with pre-configured authentication...\")\n",
    "\n",
    "config = ClusterConfig(\n",
    "    cluster_type='slurm',\n",
    "    cluster_host='ndoli.dartmouth.edu',\n",
    "    username='f002d6b',\n",
    "    ssh_port=22,\n",
    "    use_1password=True,\n",
    "    onepassword_note='https://login.dartmouth.edu',\n",
    "    use_env_password=True,\n",
    "    password_env_var='CLUSTER_PASSWORD'\n",
    ")\n",
    "\n",
    "from clustrix.enhanced_notebook_widget import create_enhanced_cluster_widget\n",
    "widget2 = create_enhanced_cluster_widget(config)\n",
    "display(widget2)\n",
    "\n",
    "print(\"✅ Pre-configured widget displayed successfully\")\n",
    "print(\"📝 Manual Test: Verify that 1Password and Environment Variable checkboxes are checked\")\n",
    "print(\"📝 Manual Test: Verify that conditional fields are visible\")"
   ]
  },
  {
   "cell_type": "markdown",
   "metadata": {},
   "source": [
    "## Test 3: Tensor01 Configuration (SSH Keys)\n",
    "Test widget configured for tensor01.dartmouth.edu which should use SSH key authentication."
   ]
  },
  {
   "cell_type": "code",
   "execution_count": null,
   "metadata": {},
   "outputs": [],
   "source": [
    "# Test tensor01 configuration\n",
    "print(\"🧪 Testing tensor01 configuration...\")\n",
    "\n",
    "tensor01_config = ClusterConfig(\n",
    "    cluster_type='ssh',\n",
    "    cluster_host='tensor01.dartmouth.edu',\n",
    "    username='f002d6b',\n",
    "    ssh_port=22,\n",
    "    use_1password=True,\n",
    "    onepassword_note='clustrix-tensor01'\n",
    ")\n",
    "\n",
    "widget3 = create_enhanced_cluster_widget(tensor01_config)\n",
    "display(widget3)\n",
    "\n",
    "print(\"✅ Tensor01 widget displayed successfully\")\n",
    "print(\"📝 Manual Test: Try 'Validate Configuration' button - should show SSH key authentication working\")"
   ]
  },
  {
   "cell_type": "markdown",
   "metadata": {},
   "source": [
    "## Test 4: Interactive Authentication Testing\n",
    "Test the authentication validation functionality."
   ]
  },
  {
   "cell_type": "code",
   "execution_count": null,
   "metadata": {},
   "outputs": [],
   "source": [
    "# Test authentication validation\n",
    "print(\"🧪 Testing authentication validation...\")\n",
    "\n",
    "from clustrix.auth_manager import AuthenticationManager\n",
    "\n",
    "# Test ndoli with 1Password\n",
    "ndoli_config = ClusterConfig(\n",
    "    cluster_type='slurm',\n",
    "    cluster_host='ndoli.dartmouth.edu',\n",
    "    username='f002d6b',\n",
    "    use_1password=True,\n",
    "    onepassword_note='https://login.dartmouth.edu'\n",
    ")\n",
    "\n",
    "auth_manager = AuthenticationManager(ndoli_config)\n",
    "connection_params = {\n",
    "    'hostname': 'ndoli.dartmouth.edu',\n",
    "    'username': 'f002d6b',\n",
    "    'port': 22\n",
    "}\n",
    "\n",
    "print(\"Testing ndoli authentication chain...\")\n",
    "result = auth_manager.authenticate(connection_params)\n",
    "print(f\"Result: {result.success}, Method: {result.method}\")\n",
    "\n",
    "# Test tensor01 SSH keys\n",
    "tensor01_config = ClusterConfig(\n",
    "    cluster_type='ssh',\n",
    "    cluster_host='tensor01.dartmouth.edu',\n",
    "    username='f002d6b'\n",
    ")\n",
    "\n",
    "auth_manager2 = AuthenticationManager(tensor01_config)\n",
    "connection_params2 = {\n",
    "    'hostname': 'tensor01.dartmouth.edu',\n",
    "    'username': 'f002d6b',\n",
    "    'port': 22\n",
    "}\n",
    "\n",
    "print(\"\\nTesting tensor01 authentication chain...\")\n",
    "result2 = auth_manager2.authenticate(connection_params2)\n",
    "print(f\"Result: {result2.success}, Method: {result2.method}\")\n",
    "\n",
    "print(\"\\n✅ Authentication testing completed\")"
   ]
  },
  {
   "cell_type": "markdown",
   "metadata": {},
   "source": [
    "## Manual Testing Checklist\n",
    "\n",
    "Please verify the following functionality manually:\n",
    "\n",
    "### Widget UI Tests\n",
    "- [ ] **Basic Display**: Widget renders without errors\n",
    "- [ ] **Checkbox Interaction**: 1Password checkbox shows/hides note field\n",
    "- [ ] **Checkbox Interaction**: Environment variable checkbox shows/hides variable name field\n",
    "- [ ] **Field Validation**: Status messages update based on checkbox state\n",
    "- [ ] **Authentication Status**: Status area shows appropriate messages\n",
    "\n",
    "### Functional Tests\n",
    "- [ ] **Validate Configuration Button**: Works and shows authentication method results\n",
    "- [ ] **SSH Key Setup Button**: Displays appropriate status messages\n",
    "- [ ] **1Password Integration**: Shows green status when 1Password is available\n",
    "- [ ] **Error Handling**: Shows appropriate warnings for missing dependencies\n",
    "\n",
    "### Authentication Chain Tests\n",
    "- [ ] **ndoli.dartmouth.edu**: Falls back to 1Password authentication (SSH keys fail → 1Password succeeds)\n",
    "- [ ] **tensor01.dartmouth.edu**: Uses SSH key authentication (SSH keys succeed)\n",
    "- [ ] **Status Messages**: Clear indication of which authentication method succeeded\n",
    "\n",
    "### Integration Tests\n",
    "- [ ] **Real Cluster Connection**: Validation actually connects to clusters\n",
    "- [ ] **Error Messages**: Helpful guidance when authentication fails\n",
    "- [ ] **Security**: Passwords not displayed in logs or status messages"
   ]
  }
 ],
 "metadata": {
  "kernelspec": {
   "display_name": "Python 3",
   "language": "python",
   "name": "python3"
  },
  "language_info": {
   "codemirror_mode": {
    "name": "ipython",
    "version": 3
   },
   "file_extension": ".py",
   "mimetype": "text/x-python",
   "name": "python",
   "nbconvert_exporter": "python",
   "pygments_lexer": "ipython3",
   "version": "3.12.0"
  }
 },
 "nbformat": 4,
 "nbformat_minor": 4
}