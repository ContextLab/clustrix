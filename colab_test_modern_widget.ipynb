{
 "cells": [
  {
   "cell_type": "markdown",
   "metadata": {
    "id": "header"
   },
   "source": [
    "# Clustrix Modern Widget Test - Google Colab\n",
    "\n",
    "This notebook tests the modern widget in Google Colab environment to validate Issue #67 implementation.\n",
    "\n",
    "[![Open In Colab](https://colab.research.google.com/assets/colab-badge.svg)](https://colab.research.google.com/github/ContextLab/clustrix/blob/master/colab_test_modern_widget.ipynb)"
   ]
  },
  {
   "cell_type": "markdown",
   "metadata": {
    "id": "install"
   },
   "source": [
    "## 1. Install Clustrix"
   ]
  },
  {
   "cell_type": "code",
   "execution_count": null,
   "metadata": {
    "id": "install-clustrix"
   },
   "outputs": [],
   "source": [
    "# Install the latest version of clustrix\n",
    "!pip install git+https://github.com/ContextLab/clustrix.git\n",
    "\n",
    "print(\"✅ Clustrix installed successfully\")"
   ]
  },
  {
   "cell_type": "markdown",
   "metadata": {
    "id": "import"
   },
   "source": [
    "## 2. Import and Create Widget"
   ]
  },
  {
   "cell_type": "code",
   "execution_count": null,
   "metadata": {
    "id": "import-widget"
   },
   "outputs": [],
   "source": [
    "# Import the modern widget\n",
    "from clustrix.modern_notebook_widget import ModernClustrixWidget\n",
    "from clustrix.profile_manager import ProfileManager\n",
    "\n",
    "print(\"✅ Modern widget imported successfully\")\n",
    "\n",
    "# Create profile manager and widget\n",
    "profile_manager = ProfileManager()\n",
    "widget = ModernClustrixWidget(profile_manager=profile_manager)\n",
    "\n",
    "print(f\"✅ Widget created with {len(widget.widgets)} components\")\n",
    "print(f\"✅ Current cluster type: {widget.widgets['cluster_type'].value}\")\n",
    "print(f\"✅ Current profile: {widget.widgets['profile_dropdown'].value}\")"
   ]
  },
  {
   "cell_type": "markdown",
   "metadata": {
    "id": "display"
   },
   "source": [
    "## 3. Display the Modern Widget\n",
    "\n",
    "This will show the complete modern widget interface matching the mockups:"
   ]
  },
  {
   "cell_type": "code",
   "execution_count": null,
   "metadata": {
    "id": "display-widget"
   },
   "outputs": [],
   "source": [
    "# Display the widget\n",
    "widget.display()"
   ]
  },
  {
   "cell_type": "markdown",
   "metadata": {
    "id": "test-functionality"
   },
   "source": [
    "## 4. Test Key Functionality\n",
    "\n",
    "### Interactive Tests\n",
    "Use the widget above to test:\n",
    "\n",
    "1. **Profile Management**: Click the **+** button to add a profile, then try the **-** button\n",
    "2. **Cluster Type**: Change from \"local\" to \"slurm\" to see remote sections appear\n",
    "3. **Advanced Settings**: Click \"Advanced settings\" to expand the section\n",
    "4. **Configuration**: Adjust CPUs, RAM, and time values\n",
    "\n",
    "### Programmatic Tests"
   ]
  },
  {
   "cell_type": "code",
   "execution_count": null,
   "metadata": {
    "id": "test-config"
   },
   "outputs": [],
   "source": [
    "# Test configuration extraction\n",
    "config = widget._get_config_from_widgets()\n",
    "\n",
    "print(\"📋 Current Configuration:\")\n",
    "print(f\"   Cluster Type: {config.cluster_type}\")\n",
    "print(f\"   CPUs: {config.default_cores}\")\n",
    "print(f\"   Memory: {config.default_memory}\")\n",
    "print(f\"   Time: {config.default_time}\")\n",
    "print(f\"   Package Manager: {config.package_manager}\")\n",
    "print(f\"   Python: {config.python_executable}\")"
   ]
  },
  {
   "cell_type": "code",
   "execution_count": null,
   "metadata": {
    "id": "test-profiles"
   },
   "outputs": [],
   "source": [
    "# Test profile management\n",
    "print(\"🔧 Testing Profile Management:\")\n",
    "initial_count = len(widget.widgets['profile_dropdown'].options)\n",
    "print(f\"   Initial profiles: {initial_count}\")\n",
    "\n",
    "# Add a profile programmatically\n",
    "widget._on_add_profile(widget.widgets['add_profile_btn'])\n",
    "new_count = len(widget.widgets['profile_dropdown'].options)\n",
    "print(f\"   After adding: {new_count}\")\n",
    "\n",
    "if new_count > initial_count:\n",
    "    print(\"✅ Profile addition working\")\n",
    "else:\n",
    "    print(\"❌ Profile addition failed\")"
   ]
  },
  {
   "cell_type": "code",
   "execution_count": null,
   "metadata": {
    "id": "test-advanced"
   },
   "outputs": [],
   "source": [
    "# Test advanced settings toggle\n",
    "print(\"🔧 Testing Advanced Settings:\")\n",
    "initial_visible = widget.advanced_settings_visible\n",
    "print(f\"   Initially visible: {initial_visible}\")\n",
    "\n",
    "widget._on_toggle_advanced(widget.widgets['advanced_toggle'])\n",
    "new_visible = widget.advanced_settings_visible\n",
    "print(f\"   After toggle: {new_visible}\")\n",
    "\n",
    "if initial_visible != new_visible:\n",
    "    print(\"✅ Advanced settings toggle working\")\n",
    "else:\n",
    "    print(\"❌ Advanced settings toggle failed\")"
   ]
  },
  {
   "cell_type": "markdown",
   "metadata": {
    "id": "summary"
   },
   "source": [
    "## 5. Summary\n",
    "\n",
    "If all tests above pass and the widget displays correctly, then **Issue #67 is successfully implemented in Google Colab**!\n",
    "\n",
    "### Expected Results:\n",
    "- ✅ Widget displays with horizontal layout matching mockups\n",
    "- ✅ Profile management buttons work (add/remove)\n",
    "- ✅ Cluster type changes show/hide remote sections\n",
    "- ✅ Advanced settings toggle expands/collapses the section\n",
    "- ✅ Configuration extraction works correctly\n",
    "- ✅ All styling appears correctly (dark navy buttons, proper spacing)\n",
    "\n",
    "### 🎉 Modern Widget is Colab-Ready!\n",
    "\n",
    "The modern widget provides a polished, user-friendly interface for cluster configuration that works seamlessly in Google Colab, matching the mockup specifications exactly."
   ]
  }
 ],
 "metadata": {
  "colab": {
   "provenance": []
  },
  "kernelspec": {
   "display_name": "Python 3",
   "name": "python3"
  },
  "language_info": {
   "name": "python"
  }
 },
 "nbformat": 4,
 "nbformat_minor": 0
}